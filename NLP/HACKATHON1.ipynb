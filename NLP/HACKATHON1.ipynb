{
  "cells": [
    {
      "cell_type": "markdown",
      "metadata": {
        "id": "PB8ka9cM5mHy"
      },
      "source": [
        "# TASK 1"
      ]
    },
    {
      "cell_type": "code",
      "execution_count": 34,
      "metadata": {
        "id": "L2MaCuCx5mH0"
      },
      "outputs": [],
      "source": [
        "import numpy as np\n",
        "import pandas as pd \n",
        "import re\n",
        "import spacy\n",
        "nlp=spacy.load('en_core_web_sm')\n",
        "from nltk.tokenize import word_tokenize\n",
        "import matplotlib.pyplot as plt\n",
        "from matplotlib import rcParams\n",
        "rcParams['figure.figsize']=(12,7)"
      ]
    },
    {
      "cell_type": "markdown",
      "metadata": {
        "id": "DhlKKMwp5mH1"
      },
      "source": [
        "## DataLoad"
      ]
    },
    {
      "cell_type": "code",
      "execution_count": 35,
      "metadata": {
        "colab": {
          "base_uri": "https://localhost:8080/",
          "height": 633
        },
        "id": "trTzpAer5mH2",
        "outputId": "b23e20cc-9652-49c6-893a-92c03fad842d"
      },
      "outputs": [
        {
          "data": {
            "text/html": [
              "<div>\n",
              "<style scoped>\n",
              "    .dataframe tbody tr th:only-of-type {\n",
              "        vertical-align: middle;\n",
              "    }\n",
              "\n",
              "    .dataframe tbody tr th {\n",
              "        vertical-align: top;\n",
              "    }\n",
              "\n",
              "    .dataframe thead th {\n",
              "        text-align: right;\n",
              "    }\n",
              "</style>\n",
              "<table border=\"1\" class=\"dataframe\">\n",
              "  <thead>\n",
              "    <tr style=\"text-align: right;\">\n",
              "      <th></th>\n",
              "      <th>Review1</th>\n",
              "      <th>Review2</th>\n",
              "      <th>Review3</th>\n",
              "    </tr>\n",
              "  </thead>\n",
              "  <tbody>\n",
              "    <tr>\n",
              "      <th>0</th>\n",
              "      <td>__label__1 The Backup Plan: Summer reading tha...</td>\n",
              "      <td>__label__1 Goes \"Haywire\" Regularly: Setup was...</td>\n",
              "      <td>__label__1 Missing over 80 pages...!: I have f...</td>\n",
              "    </tr>\n",
              "    <tr>\n",
              "      <th>1</th>\n",
              "      <td>__label__1 would not work with verizon card: I...</td>\n",
              "      <td>__label__2 Old fashioned, sweet story.: Not mu...</td>\n",
              "      <td>__label__1 Movie Guide: The book is comprehens...</td>\n",
              "    </tr>\n",
              "    <tr>\n",
              "      <th>2</th>\n",
              "      <td>__label__2 A Profound Journey!: Lumari's book,...</td>\n",
              "      <td>__label__1 Stay Away: This just plain bad. Bor...</td>\n",
              "      <td>__label__2 Great Collection: Johnson Records s...</td>\n",
              "    </tr>\n",
              "    <tr>\n",
              "      <th>3</th>\n",
              "      <td>__label__1 No relief!: The product information...</td>\n",
              "      <td>__label__1 worst.........movie............ever...</td>\n",
              "      <td>__label__2 Good album, continuing the hits.: T...</td>\n",
              "    </tr>\n",
              "    <tr>\n",
              "      <th>4</th>\n",
              "      <td>__label__1 good for fur bad for keping fleas o...</td>\n",
              "      <td>__label__1 Blu-Ray Review: What a terrible mov...</td>\n",
              "      <td>__label__2 great gaming and working accesorie:...</td>\n",
              "    </tr>\n",
              "    <tr>\n",
              "      <th>...</th>\n",
              "      <td>...</td>\n",
              "      <td>...</td>\n",
              "      <td>...</td>\n",
              "    </tr>\n",
              "    <tr>\n",
              "      <th>981</th>\n",
              "      <td>__label__2 Fascinating: I would have to recomm...</td>\n",
              "      <td>NaN</td>\n",
              "      <td>NaN</td>\n",
              "    </tr>\n",
              "    <tr>\n",
              "      <th>982</th>\n",
              "      <td>__label__2 great deal: This is my second proje...</td>\n",
              "      <td>NaN</td>\n",
              "      <td>NaN</td>\n",
              "    </tr>\n",
              "    <tr>\n",
              "      <th>983</th>\n",
              "      <td>__label__1 Does not perform as stated and impl...</td>\n",
              "      <td>NaN</td>\n",
              "      <td>NaN</td>\n",
              "    </tr>\n",
              "    <tr>\n",
              "      <th>984</th>\n",
              "      <td>__label__1 Seems that they have 2 mango variet...</td>\n",
              "      <td>NaN</td>\n",
              "      <td>NaN</td>\n",
              "    </tr>\n",
              "    <tr>\n",
              "      <th>985</th>\n",
              "      <td>__label__1 Awful, blanched, tasteless and hard...</td>\n",
              "      <td>NaN</td>\n",
              "      <td>NaN</td>\n",
              "    </tr>\n",
              "  </tbody>\n",
              "</table>\n",
              "<p>986 rows × 3 columns</p>\n",
              "</div>"
            ],
            "text/plain": [
              "                                               Review1  \\\n",
              "0    __label__1 The Backup Plan: Summer reading tha...   \n",
              "1    __label__1 would not work with verizon card: I...   \n",
              "2    __label__2 A Profound Journey!: Lumari's book,...   \n",
              "3    __label__1 No relief!: The product information...   \n",
              "4    __label__1 good for fur bad for keping fleas o...   \n",
              "..                                                 ...   \n",
              "981  __label__2 Fascinating: I would have to recomm...   \n",
              "982  __label__2 great deal: This is my second proje...   \n",
              "983  __label__1 Does not perform as stated and impl...   \n",
              "984  __label__1 Seems that they have 2 mango variet...   \n",
              "985  __label__1 Awful, blanched, tasteless and hard...   \n",
              "\n",
              "                                               Review2  \\\n",
              "0    __label__1 Goes \"Haywire\" Regularly: Setup was...   \n",
              "1    __label__2 Old fashioned, sweet story.: Not mu...   \n",
              "2    __label__1 Stay Away: This just plain bad. Bor...   \n",
              "3    __label__1 worst.........movie............ever...   \n",
              "4    __label__1 Blu-Ray Review: What a terrible mov...   \n",
              "..                                                 ...   \n",
              "981                                                NaN   \n",
              "982                                                NaN   \n",
              "983                                                NaN   \n",
              "984                                                NaN   \n",
              "985                                                NaN   \n",
              "\n",
              "                                               Review3  \n",
              "0    __label__1 Missing over 80 pages...!: I have f...  \n",
              "1    __label__1 Movie Guide: The book is comprehens...  \n",
              "2    __label__2 Great Collection: Johnson Records s...  \n",
              "3    __label__2 Good album, continuing the hits.: T...  \n",
              "4    __label__2 great gaming and working accesorie:...  \n",
              "..                                                 ...  \n",
              "981                                                NaN  \n",
              "982                                                NaN  \n",
              "983                                                NaN  \n",
              "984                                                NaN  \n",
              "985                                                NaN  \n",
              "\n",
              "[986 rows x 3 columns]"
            ]
          },
          "execution_count": 35,
          "metadata": {},
          "output_type": "execute_result"
        }
      ],
      "source": [
        "df=pd.concat([pd.read_csv('Review1.txt',sep='delimiter',header=None,engine='python'),pd.read_csv('Review2.txt',sep='delimiter',header=None,engine='python'),pd.read_csv('Review3.txt',sep='delimiter',header=None,engine='python')],axis=1)\n",
        "df.columns=['Review1','Review2','Review3']\n",
        "df"
      ]
    },
    {
      "cell_type": "code",
      "execution_count": 36,
      "metadata": {
        "id": "EKiX3HDQ5mH3"
      },
      "outputs": [],
      "source": [
        "df['Review1']=df['Review1'].str.lower()\n",
        "df['Review2']=df['Review2'].str.lower()\n",
        "df['Review3']=df['Review3'].str.lower()"
      ]
    },
    {
      "cell_type": "code",
      "execution_count": 37,
      "metadata": {
        "id": "2hgMAG8X5mH3"
      },
      "outputs": [],
      "source": [
        "R1=open('Review1.txt','r').read().lower()\n",
        "R2=open('Review2.txt','r').read().lower()\n",
        "R3=open('Review3.txt','r').read().lower()"
      ]
    },
    {
      "cell_type": "code",
      "execution_count": 38,
      "metadata": {
        "colab": {
          "base_uri": "https://localhost:8080/"
        },
        "id": "K7sJ-5Wl5mH4",
        "outputId": "a8df26c6-83f2-4c3c-f5dc-7dcd556092a2"
      },
      "outputs": [
        {
          "data": {
            "text/plain": [
              "964"
            ]
          },
          "execution_count": 38,
          "metadata": {},
          "output_type": "execute_result"
        }
      ],
      "source": [
        "len(re.findall(r'\\n',R3))"
      ]
    },
    {
      "cell_type": "markdown",
      "metadata": {
        "id": "bIOa8L2W5mH4"
      },
      "source": [
        "## Clean"
      ]
    },
    {
      "cell_type": "code",
      "execution_count": 39,
      "metadata": {
        "id": "XxELIOT05mH5"
      },
      "outputs": [],
      "source": [
        "def clean(text):\n",
        "     text=re.sub(r'https?://\\S+|www\\.\\S+','_URl_',text)\n",
        "     text=re.sub(r'[\\W_]', ' ', text)\n",
        "     text=re.sub(r'\\s+\\b\\d+\\b', '', text)\n",
        "     text=re.sub(r'\\s\\-\\s', '', text)\n",
        "     text=re.sub(r'\\w+\\d+\\w+',' ',text)\n",
        "     text=re.sub(r'\\blabel\\b',' ',text)\n",
        "     text=re.sub(r'\\s+',' ',text)\n",
        "     return text\n",
        "df['Review1']=df['Review1'].apply(clean)\n",
        "df['Review2']=df.loc[:909,'Review2'].apply(clean)\n",
        "df['Review3']=df.loc[:963,'Review3'].apply(clean)\n"
      ]
    },
    {
      "cell_type": "code",
      "execution_count": 40,
      "metadata": {
        "colab": {
          "base_uri": "https://localhost:8080/"
        },
        "id": "VUSA_YPy5mH5",
        "outputId": "1efeaf0f-b7b9-4b32-f84d-b8c1088b4ac7"
      },
      "outputs": [
        {
          "data": {
            "text/plain": [
              "0       the backup plan summer reading that does not ...\n",
              "1       would not work with verizon card i tried to g...\n",
              "2       a profound journey lumari s book akashic reco...\n",
              "3       no relief the product information says that i...\n",
              "4       good for fur bad for keping fleas off the pro...\n",
              "                             ...                        \n",
              "981     fascinating i would have to recommend this mo...\n",
              "982     great deal this is my second projector and fi...\n",
              "983     does not perform as stated and implied and wi...\n",
              "984     seems that they have mango varieties a few mo...\n",
              "985     awful blanched tasteless and hard i can t bel...\n",
              "Name: Review1, Length: 986, dtype: object"
            ]
          },
          "execution_count": 40,
          "metadata": {},
          "output_type": "execute_result"
        }
      ],
      "source": [
        "df['Review1']"
      ]
    },
    {
      "cell_type": "code",
      "execution_count": 41,
      "metadata": {
        "id": "6bFiT5Y65mH6"
      },
      "outputs": [],
      "source": [
        "import re\n",
        "from collections import Counter\n",
        "m={}\n",
        "ls=[]\n",
        "count=Counter(re.findall(r'\\w+',df['Review1'][0]))\n",
        "count\n",
        "for word in df['Review1'][0].split():\n",
        "        if word not in m: \n",
        "            m[word]=len(m)\n",
        "for i,j in zip(m.values(),count.values()):\n",
        "      ls.append((i,j))"
      ]
    },
    {
      "cell_type": "code",
      "execution_count": 42,
      "metadata": {
        "id": "BLsZbyOr5mH6"
      },
      "outputs": [],
      "source": [
        "\n",
        "df['Review1'].apply(lambda x: Counter(re.findall(r'\\w+',x)))\n",
        "df['Review1']=df['Review1'].apply(remove_stopwords)"
      ]
    },
    {
      "cell_type": "code",
      "execution_count": 43,
      "metadata": {
        "id": "zMGhmiUV5mH6"
      },
      "outputs": [],
      "source": [
        "pos=open(\"positive-words.txt\").read()"
      ]
    },
    {
      "cell_type": "code",
      "execution_count": 44,
      "metadata": {
        "colab": {
          "base_uri": "https://localhost:8080/",
          "height": 37
        },
        "id": "InwMSqwM5mH7",
        "outputId": "e9139c73-cdcc-43a7-ecb5-a12d1f615fce"
      },
      "outputs": [
        {
          "data": {
            "text/plain": [
              "'work work success ended g works priced'"
            ]
          },
          "execution_count": 44,
          "metadata": {},
          "output_type": "execute_result"
        }
      ],
      "source": [
        "\" \".join([word for word in df['Review1'][1].split() if word in  pos])"
      ]
    },
    {
      "cell_type": "code",
      "execution_count": 45,
      "metadata": {
        "colab": {
          "base_uri": "https://localhost:8080/",
          "height": 54
        },
        "id": "YKYPyqb85mH7",
        "outputId": "14361778-577d-432f-a1ba-3fd25d981b2b"
      },
      "outputs": [
        {
          "data": {
            "text/plain": [
              "'work verizon card tried work verizon card success updating software ended buying linksyswireless g router mobile broadband vn works priced linksys require software update linksys website'"
            ]
          },
          "execution_count": 45,
          "metadata": {},
          "output_type": "execute_result"
        }
      ],
      "source": [
        "df['Review1'][1]"
      ]
    },
    {
      "cell_type": "code",
      "execution_count": 46,
      "metadata": {
        "id": "1oT0LkSA5mH8"
      },
      "outputs": [],
      "source": [
        "from vaderSentiment.vaderSentiment import SentimentIntensityAnalyzer\n",
        "analyzer = SentimentIntensityAnalyzer()"
      ]
    },
    {
      "cell_type": "code",
      "execution_count": 47,
      "metadata": {
        "id": "czvIsAyr5mH9"
      },
      "outputs": [],
      "source": [
        "sent_r1=pd.concat([df['Review1'] , pd.DataFrame(df['Review1'].apply(analyzer.polarity_scores).tolist())] , axis = 1)"
      ]
    },
    {
      "cell_type": "code",
      "execution_count": 48,
      "metadata": {
        "colab": {
          "base_uri": "https://localhost:8080/",
          "height": 142
        },
        "id": "exLbJ-Ar5mH9",
        "outputId": "a81952c9-b18b-414d-87e5-87cebbe8b8c5"
      },
      "outputs": [
        {
          "data": {
            "text/html": [
              "<div>\n",
              "<style scoped>\n",
              "    .dataframe tbody tr th:only-of-type {\n",
              "        vertical-align: middle;\n",
              "    }\n",
              "\n",
              "    .dataframe tbody tr th {\n",
              "        vertical-align: top;\n",
              "    }\n",
              "\n",
              "    .dataframe thead th {\n",
              "        text-align: right;\n",
              "    }\n",
              "</style>\n",
              "<table border=\"1\" class=\"dataframe\">\n",
              "  <thead>\n",
              "    <tr style=\"text-align: right;\">\n",
              "      <th></th>\n",
              "      <th>0</th>\n",
              "    </tr>\n",
              "  </thead>\n",
              "  <tbody>\n",
              "    <tr>\n",
              "      <th>0</th>\n",
              "      <td>103.573</td>\n",
              "    </tr>\n",
              "    <tr>\n",
              "      <th>1</th>\n",
              "      <td>593.216</td>\n",
              "    </tr>\n",
              "    <tr>\n",
              "      <th>2</th>\n",
              "      <td>289.232</td>\n",
              "    </tr>\n",
              "  </tbody>\n",
              "</table>\n",
              "</div>"
            ],
            "text/plain": [
              "         0\n",
              "0  103.573\n",
              "1  593.216\n",
              "2  289.232"
            ]
          },
          "execution_count": 48,
          "metadata": {},
          "output_type": "execute_result"
        }
      ],
      "source": [
        "pd.DataFrame([sent_r1[['neg']].sum().values,sent_r1[['neu']].sum().values,sent_r1[['pos']].sum().values])"
      ]
    },
    {
      "cell_type": "code",
      "execution_count": 49,
      "metadata": {
        "id": "KDnq7hxw5mH-"
      },
      "outputs": [],
      "source": [
        "sent_r2=pd.concat([df.loc[:909,'Review2'] , pd.DataFrame(df.loc[:909,'Review2'].apply(analyzer.polarity_scores).tolist())] , axis = 1)"
      ]
    },
    {
      "cell_type": "code",
      "execution_count": 50,
      "metadata": {
        "id": "-ohi8XAR5mH_"
      },
      "outputs": [],
      "source": [
        "sent_r3=pd.concat([df.loc[:963,'Review3'] , pd.DataFrame(df.loc[:963,'Review3'].apply(analyzer.polarity_scores).tolist())] , axis = 1)"
      ]
    },
    {
      "cell_type": "code",
      "execution_count": 51,
      "metadata": {
        "colab": {
          "base_uri": "https://localhost:8080/",
          "height": 273
        },
        "id": "VUyNo5pQ5mH_",
        "outputId": "d447df7a-ed19-4cf3-e469-5a88c6bc2d03"
      },
      "outputs": [
        {
          "data": {
            "image/png": "[encoded data removed]",
            "text/plain": [
              "<Figure size 864x504 with 3 Axes>"
            ]
          },
          "metadata": {},
          "output_type": "display_data"
        }
      ],
      "source": [
        "fig,ax=plt.subplots(1,3,figsize=(12,7))\n",
        "ax[0].set_title('Review1')\n",
        "ax[1].set_title('Review2')\n",
        "ax[2].set_title('Review3')\n",
        "ax[0].pie(pd.DataFrame([sent_r1[['neg']].sum().values,sent_r1[['neu']].sum().values,sent_r1[['pos']].sum().values])[0],labels=['negative','neutral','positive'],autopct='%.2f%%');\n",
        "ax[1].pie(pd.DataFrame([sent_r2[['neg']].sum().values,sent_r2[['neu']].sum().values,sent_r2[['pos']].sum().values])[0],labels=['negative','neutral','positive'],autopct='%.2f%%');\n",
        "ax[2].pie(pd.DataFrame([sent_r3[['neg']].sum().values,sent_r3[['neu']].sum().values,sent_r3[['pos']].sum().values])[0],labels=['negative','neutral','positive'],autopct='%.2f%%');\n",
        "plt.tight_layout()"
      ]
    },
    {
      "cell_type": "code",
      "execution_count": 52,
      "metadata": {
        "colab": {
          "base_uri": "https://localhost:8080/"
        },
        "id": "DA9VFvQT5mH8",
        "outputId": "688759f4-738f-4af0-fcb1-0a52d7e2ebfc"
      },
      "outputs": [
        {
          "name": "stderr",
          "output_type": "stream",
          "text": [
            "No model was supplied, defaulted to distilbert-base-uncased-finetuned-sst-2-english and revision af0f99b (https://huggingface.co/distilbert-base-uncased-finetuned-sst-2-english).\n",
            "Using a pipeline without specifying a model name and revision in production is not recommended.\n"
          ]
        },
        {
          "data": {
            "text/plain": [
              "[{'label': 'POSITIVE', 'score': 0.999457061290741},\n",
              " {'label': 'NEGATIVE', 'score': 0.9987302422523499}]"
            ]
          },
          "execution_count": 52,
          "metadata": {},
          "output_type": "execute_result"
        }
      ],
      "source": [
        "import transformers\n",
        "from transformers import pipeline\n",
        "sentiment_pipeline = pipeline(\"sentiment-analysis\")\n",
        "data = [\"It was the best of times.\", \"t was the worst of times.\"]\n",
        "sentiment_pipeline(data)"
      ]
    },
    {
      "cell_type": "code",
      "execution_count": 53,
      "metadata": {
        "id": "uqLExuiR8wpI"
      },
      "outputs": [],
      "source": [
        "status=[]\n",
        "for i in range(len(df['Review1'])):\n",
        "  status.append(sentiment_pipeline(df['Review1'][i])[0]['label'])\n"
      ]
    },
    {
      "cell_type": "code",
      "execution_count": 54,
      "metadata": {
        "id": "IxY5EVhb_n3_"
      },
      "outputs": [],
      "source": [
        "status1=[]\n",
        "for i in range(len(df.loc[:909,'Review2'])):\n",
        "  status1.append(sentiment_pipeline(df.loc[:909,'Review2'][i])[0]['label'])"
      ]
    },
    {
      "cell_type": "code",
      "execution_count": 55,
      "metadata": {
        "id": "gu9dt9c5A_Ep"
      },
      "outputs": [],
      "source": [
        "status2=[]\n",
        "for i in range(len(df.loc[:963,'Review3'])):\n",
        "  status2.append(sentiment_pipeline(df.loc[:963,'Review3'][i])[0]['label'])"
      ]
    },
    {
      "cell_type": "code",
      "execution_count": 56,
      "metadata": {
        "id": "EnX6KL6uDhAY"
      },
      "outputs": [],
      "source": [
        "sent_r1=pd.concat([sent_r1,pd.DataFrame({'Status':status})],axis=1)\n",
        "sent_r2=pd.concat([sent_r2,pd.DataFrame({'Status':status1})],axis=1)\n",
        "sent_r3=pd.concat([sent_r3,pd.DataFrame({'Status':status2})],axis=1)"
      ]
    },
    {
      "cell_type": "code",
      "execution_count": 57,
      "metadata": {
        "colab": {
          "base_uri": "https://localhost:8080/",
          "height": 261
        },
        "id": "3k-fWuYdKchZ",
        "outputId": "e170ffae-e53d-4308-db63-b2dfe8394886"
      },
      "outputs": [
        {
          "data": {
            "image/png": "[encoded data removed]",
            "text/plain": [
              "<Figure size 864x504 with 3 Axes>"
            ]
          },
          "metadata": {},
          "output_type": "display_data"
        }
      ],
      "source": [
        "fig,ax=plt.subplots(1,3,figsize=(12,7))\n",
        "ax[0].set_title('Review1')\n",
        "ax[1].set_title('Review2')\n",
        "ax[2].set_title('Review3')\n",
        "ax[0].pie(sent_r1['Status'].value_counts(),labels=sent_r1['Status'].unique(),autopct='%.2f%%');\n",
        "ax[1].pie(sent_r2['Status'].value_counts(),labels=sent_r2['Status'].unique(),autopct='%.2f%%');\n",
        "ax[2].pie(sent_r3['Status'].value_counts(),labels=sent_r3['Status'].unique(),autopct='%.2f%%');\n"
      ]
    },
    {
      "cell_type": "code",
      "execution_count": 59,
      "metadata": {
        "id": "WwQBvMu5Ppw0"
      },
      "outputs": [],
      "source": [
        "from textblob import TextBlob"
      ]
    },
    {
      "cell_type": "code",
      "execution_count": 61,
      "metadata": {
        "id": "QIyeNctZPyoQ"
      },
      "outputs": [],
      "source": [
        "def sent_score(text):\n",
        "  if TextBlob(text).sentiment.polarity >0:\n",
        "    return 'Positive'\n",
        "  elif TextBlob(text).sentiment.polarity <0:\n",
        "    return 'Negative'\n",
        "  else:\n",
        "    return 'Neutral'\n"
      ]
    },
    {
      "cell_type": "code",
      "execution_count": 62,
      "metadata": {
        "id": "OzUnT9wwQR12"
      },
      "outputs": [],
      "source": [
        "sent_r1['textblob_status']=sent_r1['Review1'].apply(sent_score)"
      ]
    },
    {
      "cell_type": "code",
      "execution_count": 63,
      "metadata": {
        "id": "AMRoOBfrRecP"
      },
      "outputs": [],
      "source": [
        "sent_r2['textblob_status']=sent_r2['Review2'].apply(sent_score)\n",
        "sent_r3['textblob_status']=sent_r3['Review3'].apply(sent_score)"
      ]
    },
    {
      "cell_type": "code",
      "execution_count": 74,
      "metadata": {},
      "outputs": [
        {
          "data": {
            "image/png": "[encoded data removed]",
            "text/plain": [
              "<Figure size 864x504 with 3 Axes>"
            ]
          },
          "metadata": {},
          "output_type": "display_data"
        }
      ],
      "source": [
        "fig,ax=plt.subplots(1,3,figsize=(12,7))\n",
        "ax[0].set_title('Review1')\n",
        "ax[1].set_title('Review2')\n",
        "ax[2].set_title('Review3')\n",
        "ax[0].pie(sent_r1['textblob_status'].value_counts(),labels=sent_r1['textblob_status'].unique(),autopct='%.2f%%');\n",
        "ax[1].pie(sent_r2['textblob_status'].value_counts(),labels=sent_r2['textblob_status'].unique(),autopct='%.2f%%');\n",
        "ax[2].pie(sent_r3['textblob_status'].value_counts(),labels=sent_r3['textblob_status'].unique(),autopct='%.2f%%');"
      ]
    },
    {
      "cell_type": "code",
      "execution_count": 64,
      "metadata": {
        "colab": {
          "base_uri": "https://localhost:8080/",
          "height": 204
        },
        "id": "aiaK-O84Sk8N",
        "outputId": "ddd97bf6-f7ea-4012-aa84-6525f26fb861"
      },
      "outputs": [
        {
          "data": {
            "text/html": [
              "<div>\n",
              "<style scoped>\n",
              "    .dataframe tbody tr th:only-of-type {\n",
              "        vertical-align: middle;\n",
              "    }\n",
              "\n",
              "    .dataframe tbody tr th {\n",
              "        vertical-align: top;\n",
              "    }\n",
              "\n",
              "    .dataframe thead th {\n",
              "        text-align: right;\n",
              "    }\n",
              "</style>\n",
              "<table border=\"1\" class=\"dataframe\">\n",
              "  <thead>\n",
              "    <tr style=\"text-align: right;\">\n",
              "      <th></th>\n",
              "      <th>Review1</th>\n",
              "      <th>neg</th>\n",
              "      <th>neu</th>\n",
              "      <th>pos</th>\n",
              "      <th>compound</th>\n",
              "      <th>Status</th>\n",
              "      <th>textblob_status</th>\n",
              "    </tr>\n",
              "  </thead>\n",
              "  <tbody>\n",
              "    <tr>\n",
              "      <th>0</th>\n",
              "      <td>backup plan summer reading require reader foun...</td>\n",
              "      <td>0.075</td>\n",
              "      <td>0.578</td>\n",
              "      <td>0.347</td>\n",
              "      <td>0.8834</td>\n",
              "      <td>POSITIVE</td>\n",
              "      <td>Positive</td>\n",
              "    </tr>\n",
              "    <tr>\n",
              "      <th>1</th>\n",
              "      <td>work verizon card tried work verizon card succ...</td>\n",
              "      <td>0.000</td>\n",
              "      <td>0.871</td>\n",
              "      <td>0.129</td>\n",
              "      <td>0.5719</td>\n",
              "      <td>NEGATIVE</td>\n",
              "      <td>Positive</td>\n",
              "    </tr>\n",
              "    <tr>\n",
              "      <th>2</th>\n",
              "      <td>profound journey lumari s book akashic records...</td>\n",
              "      <td>0.000</td>\n",
              "      <td>0.680</td>\n",
              "      <td>0.320</td>\n",
              "      <td>0.9781</td>\n",
              "      <td>POSITIVE</td>\n",
              "      <td>Positive</td>\n",
              "    </tr>\n",
              "    <tr>\n",
              "      <th>3</th>\n",
              "      <td>relief product information says takes days pro...</td>\n",
              "      <td>0.094</td>\n",
              "      <td>0.681</td>\n",
              "      <td>0.225</td>\n",
              "      <td>0.8242</td>\n",
              "      <td>NEGATIVE</td>\n",
              "      <td>Negative</td>\n",
              "    </tr>\n",
              "    <tr>\n",
              "      <th>4</th>\n",
              "      <td>good fur bad keping fleas product pets fur sof...</td>\n",
              "      <td>0.213</td>\n",
              "      <td>0.610</td>\n",
              "      <td>0.177</td>\n",
              "      <td>-0.1531</td>\n",
              "      <td>NEGATIVE</td>\n",
              "      <td>Negative</td>\n",
              "    </tr>\n",
              "  </tbody>\n",
              "</table>\n",
              "</div>"
            ],
            "text/plain": [
              "                                             Review1    neg    neu    pos  \\\n",
              "0  backup plan summer reading require reader foun...  0.075  0.578  0.347   \n",
              "1  work verizon card tried work verizon card succ...  0.000  0.871  0.129   \n",
              "2  profound journey lumari s book akashic records...  0.000  0.680  0.320   \n",
              "3  relief product information says takes days pro...  0.094  0.681  0.225   \n",
              "4  good fur bad keping fleas product pets fur sof...  0.213  0.610  0.177   \n",
              "\n",
              "   compound    Status textblob_status  \n",
              "0    0.8834  POSITIVE        Positive  \n",
              "1    0.5719  NEGATIVE        Positive  \n",
              "2    0.9781  POSITIVE        Positive  \n",
              "3    0.8242  NEGATIVE        Negative  \n",
              "4   -0.1531  NEGATIVE        Negative  "
            ]
          },
          "execution_count": 64,
          "metadata": {},
          "output_type": "execute_result"
        }
      ],
      "source": [
        "sent_r1.head(5)"
      ]
    },
    {
      "cell_type": "code",
      "execution_count": 65,
      "metadata": {
        "colab": {
          "base_uri": "https://localhost:8080/"
        },
        "id": "to_WhwKHXgNe",
        "outputId": "71eb7f4a-b8ab-44b5-be43-cf7ee1086ca7"
      },
      "outputs": [
        {
          "name": "stdout",
          "output_type": "stream",
          "text": [
            "Neutral\n"
          ]
        }
      ],
      "source": [
        "if sent_r1.loc[0,'neg'] == sent_r1.loc[0,['neg','neu','pos']].max():\n",
        "    print('Negative')\n",
        "elif sent_r1.loc[0,'neu'] == sent_r1.loc[0,['neg','neu','pos']].max():\n",
        "    print('Neutral')\n",
        "else:\n",
        "    print('Positive')"
      ]
    },
    {
      "cell_type": "code",
      "execution_count": 66,
      "metadata": {
        "id": "rFtQ7J3-RwWf"
      },
      "outputs": [],
      "source": [
        "def max_score(data):\n",
        "  ls=[]\n",
        "  for i in range(len(data)):\n",
        "    if data.loc[i,'neg'] == data.loc[i,['neg','neu','pos']].max():\n",
        "      ls.append('Negative')\n",
        "    elif data.loc[i,'neu'] == data.loc[i,['neg','neu','pos']].max():\n",
        "      ls.append('Neutral')\n",
        "    else:\n",
        "      ls.append('Positive')\n",
        "  return ls\n",
        "sent_r1['vender_status']=pd.DataFrame(max_score(sent_r1))\n"
      ]
    },
    {
      "cell_type": "code",
      "execution_count": 67,
      "metadata": {
        "id": "BL1R7aGAdioL"
      },
      "outputs": [],
      "source": [
        "sent_r2['vender_status']=pd.DataFrame(max_score(sent_r2))\n",
        "sent_r3['vender_status']=pd.DataFrame(max_score(sent_r3))"
      ]
    },
    {
      "cell_type": "code",
      "execution_count": 75,
      "metadata": {},
      "outputs": [
        {
          "data": {
            "image/png": "[encoded data removed]",
            "text/plain": [
              "<Figure size 864x504 with 3 Axes>"
            ]
          },
          "metadata": {},
          "output_type": "display_data"
        }
      ],
      "source": [
        "fig,ax=plt.subplots(1,3,figsize=(12,7))\n",
        "ax[0].set_title('Review1')\n",
        "ax[1].set_title('Review2')\n",
        "ax[2].set_title('Review3')\n",
        "ax[0].pie(sent_r1['vender_status'].value_counts(),labels=sent_r1['vender_status'].unique(),autopct='%.2f%%');\n",
        "ax[1].pie(sent_r2['vender_status'].value_counts(),labels=sent_r2['vender_status'].unique(),autopct='%.2f%%');\n",
        "ax[2].pie(sent_r3['vender_status'].value_counts(),labels=sent_r3['vender_status'].unique(),autopct='%.2f%%');\n"
      ]
    },
    {
      "cell_type": "code",
      "execution_count": 68,
      "metadata": {
        "colab": {
          "base_uri": "https://localhost:8080/",
          "height": 248
        },
        "id": "q_q7m4_ad0Ot",
        "outputId": "3b26e2f8-f5b7-42c6-8fda-80b7058cbc23"
      },
      "outputs": [
        {
          "data": {
            "text/html": [
              "<div>\n",
              "<style scoped>\n",
              "    .dataframe tbody tr th:only-of-type {\n",
              "        vertical-align: middle;\n",
              "    }\n",
              "\n",
              "    .dataframe tbody tr th {\n",
              "        vertical-align: top;\n",
              "    }\n",
              "\n",
              "    .dataframe thead th {\n",
              "        text-align: right;\n",
              "    }\n",
              "</style>\n",
              "<table border=\"1\" class=\"dataframe\">\n",
              "  <thead>\n",
              "    <tr style=\"text-align: right;\">\n",
              "      <th></th>\n",
              "      <th>Review1</th>\n",
              "      <th>neg</th>\n",
              "      <th>neu</th>\n",
              "      <th>pos</th>\n",
              "      <th>compound</th>\n",
              "      <th>Status</th>\n",
              "      <th>textblob_status</th>\n",
              "      <th>vender_status</th>\n",
              "    </tr>\n",
              "  </thead>\n",
              "  <tbody>\n",
              "    <tr>\n",
              "      <th>0</th>\n",
              "      <td>backup plan summer reading require reader foun...</td>\n",
              "      <td>0.075</td>\n",
              "      <td>0.578</td>\n",
              "      <td>0.347</td>\n",
              "      <td>0.8834</td>\n",
              "      <td>POSITIVE</td>\n",
              "      <td>Positive</td>\n",
              "      <td>Neutral</td>\n",
              "    </tr>\n",
              "    <tr>\n",
              "      <th>1</th>\n",
              "      <td>work verizon card tried work verizon card succ...</td>\n",
              "      <td>0.000</td>\n",
              "      <td>0.871</td>\n",
              "      <td>0.129</td>\n",
              "      <td>0.5719</td>\n",
              "      <td>NEGATIVE</td>\n",
              "      <td>Positive</td>\n",
              "      <td>Neutral</td>\n",
              "    </tr>\n",
              "    <tr>\n",
              "      <th>2</th>\n",
              "      <td>profound journey lumari s book akashic records...</td>\n",
              "      <td>0.000</td>\n",
              "      <td>0.680</td>\n",
              "      <td>0.320</td>\n",
              "      <td>0.9781</td>\n",
              "      <td>POSITIVE</td>\n",
              "      <td>Positive</td>\n",
              "      <td>Neutral</td>\n",
              "    </tr>\n",
              "    <tr>\n",
              "      <th>3</th>\n",
              "      <td>relief product information says takes days pro...</td>\n",
              "      <td>0.094</td>\n",
              "      <td>0.681</td>\n",
              "      <td>0.225</td>\n",
              "      <td>0.8242</td>\n",
              "      <td>NEGATIVE</td>\n",
              "      <td>Negative</td>\n",
              "      <td>Neutral</td>\n",
              "    </tr>\n",
              "    <tr>\n",
              "      <th>4</th>\n",
              "      <td>good fur bad keping fleas product pets fur sof...</td>\n",
              "      <td>0.213</td>\n",
              "      <td>0.610</td>\n",
              "      <td>0.177</td>\n",
              "      <td>-0.1531</td>\n",
              "      <td>NEGATIVE</td>\n",
              "      <td>Negative</td>\n",
              "      <td>Neutral</td>\n",
              "    </tr>\n",
              "  </tbody>\n",
              "</table>\n",
              "</div>"
            ],
            "text/plain": [
              "                                             Review1    neg    neu    pos  \\\n",
              "0  backup plan summer reading require reader foun...  0.075  0.578  0.347   \n",
              "1  work verizon card tried work verizon card succ...  0.000  0.871  0.129   \n",
              "2  profound journey lumari s book akashic records...  0.000  0.680  0.320   \n",
              "3  relief product information says takes days pro...  0.094  0.681  0.225   \n",
              "4  good fur bad keping fleas product pets fur sof...  0.213  0.610  0.177   \n",
              "\n",
              "   compound    Status textblob_status vender_status  \n",
              "0    0.8834  POSITIVE        Positive       Neutral  \n",
              "1    0.5719  NEGATIVE        Positive       Neutral  \n",
              "2    0.9781  POSITIVE        Positive       Neutral  \n",
              "3    0.8242  NEGATIVE        Negative       Neutral  \n",
              "4   -0.1531  NEGATIVE        Negative       Neutral  "
            ]
          },
          "execution_count": 68,
          "metadata": {},
          "output_type": "execute_result"
        }
      ],
      "source": [
        "sent_r1.head()"
      ]
    },
    {
      "cell_type": "markdown",
      "metadata": {
        "id": "35qP98xm5mIA"
      },
      "source": [
        "# TASK 2"
      ]
    },
    {
      "cell_type": "markdown",
      "metadata": {
        "id": "RSOUMqhO5mIA"
      },
      "source": [
        "## StopWords"
      ]
    },
    {
      "cell_type": "code",
      "execution_count": 69,
      "metadata": {
        "id": "3_sxw19j5mIA"
      },
      "outputs": [],
      "source": [
        "stopwords=nlp.Defaults.stop_words\n",
        "stop_dict=stopwords\n",
        "rm=['ingredients','live', 'person', 'went','came', 'gave', 'seen ','movie']\n",
        "for i in rm:\n",
        "    stop_dict.add(i)\n",
        "def remove_stopwords(text):\n",
        "    return \" \".join([word for word in text.split() if word not in stop_dict])"
      ]
    },
    {
      "cell_type": "code",
      "execution_count": 70,
      "metadata": {
        "id": "rXbW-cTv5mIB"
      },
      "outputs": [],
      "source": [
        "df['Review1']=df['Review1'].apply(remove_stopwords)\n",
        "df['Review2']=df.loc[:909,'Review2'].apply(remove_stopwords)\n",
        "df['Review3']=df.loc[:963,'Review3'].apply(remove_stopwords)"
      ]
    },
    {
      "cell_type": "markdown",
      "metadata": {
        "id": "M7VD1o6K5mIB"
      },
      "source": [
        "## Lemmatization"
      ]
    },
    {
      "cell_type": "code",
      "execution_count": 71,
      "metadata": {
        "id": "dgUjph8F5mIB"
      },
      "outputs": [],
      "source": [
        "\n",
        "def lem(text):\n",
        "    R1_doc=nlp(text)\n",
        "    return \" \".join(token.lemma_ for token in R1_doc)"
      ]
    },
    {
      "cell_type": "code",
      "execution_count": 72,
      "metadata": {
        "id": "iMyBzMFE5mIC"
      },
      "outputs": [],
      "source": [
        "df['Review1']=df['Review1'].apply(lem)\n",
        "df['Review2']=df.loc[:909,'Review2'].apply(lem)\n",
        "df['Review3']=df.loc[:963,'Review3'].apply(lem)"
      ]
    },
    {
      "cell_type": "code",
      "execution_count": 73,
      "metadata": {
        "colab": {
          "base_uri": "https://localhost:8080/",
          "height": 616
        },
        "id": "pXD0jHiF5mIC",
        "outputId": "c9bd73b3-8d64-4d4d-ed42-ed1672902b69"
      },
      "outputs": [
        {
          "data": {
            "text/html": [
              "<div>\n",
              "<style scoped>\n",
              "    .dataframe tbody tr th:only-of-type {\n",
              "        vertical-align: middle;\n",
              "    }\n",
              "\n",
              "    .dataframe tbody tr th {\n",
              "        vertical-align: top;\n",
              "    }\n",
              "\n",
              "    .dataframe thead th {\n",
              "        text-align: right;\n",
              "    }\n",
              "</style>\n",
              "<table border=\"1\" class=\"dataframe\">\n",
              "  <thead>\n",
              "    <tr style=\"text-align: right;\">\n",
              "      <th></th>\n",
              "      <th>Review1</th>\n",
              "      <th>Review2</th>\n",
              "      <th>Review3</th>\n",
              "    </tr>\n",
              "  </thead>\n",
              "  <tbody>\n",
              "    <tr>\n",
              "      <th>0</th>\n",
              "      <td>backup plan summer reading require reader find...</td>\n",
              "      <td>go haywire regularly setup easy printer routin...</td>\n",
              "      <td>miss page find entire n section good deal m se...</td>\n",
              "    </tr>\n",
              "    <tr>\n",
              "      <th>1</th>\n",
              "      <td>work verizon card try work verizon card succes...</td>\n",
              "      <td>old fashioned sweet story challenge read enjoy...</td>\n",
              "      <td>guide book comprehensive seldom try look pictu...</td>\n",
              "    </tr>\n",
              "    <tr>\n",
              "      <th>2</th>\n",
              "      <td>profound journey lumari s book akashic record ...</td>\n",
              "      <td>stay away plain bad boring find bit entertain ...</td>\n",
              "      <td>great collection johnson record star dub shell...</td>\n",
              "    </tr>\n",
              "    <tr>\n",
              "      <th>3</th>\n",
              "      <td>relief product information say take day produc...</td>\n",
              "      <td>bad break open red light camera steal film wat...</td>\n",
              "      <td>good album continue hit good album switchfoot ...</td>\n",
              "    </tr>\n",
              "    <tr>\n",
              "      <th>4</th>\n",
              "      <td>good fur bad kepe flea product pet fur soft fa...</td>\n",
              "      <td>blu ray review terrible garbage totally suck h...</td>\n",
              "      <td>great gaming work accesorie new wrong movement...</td>\n",
              "    </tr>\n",
              "    <tr>\n",
              "      <th>...</th>\n",
              "      <td>...</td>\n",
              "      <td>...</td>\n",
              "      <td>...</td>\n",
              "    </tr>\n",
              "    <tr>\n",
              "      <th>981</th>\n",
              "      <td>fascinating recommend people enjoy atypical th...</td>\n",
              "      <td>NaN</td>\n",
              "      <td>NaN</td>\n",
              "    </tr>\n",
              "    <tr>\n",
              "      <th>982</th>\n",
              "      <td>great deal second projector viewsonic small co...</td>\n",
              "      <td>NaN</td>\n",
              "      <td>NaN</td>\n",
              "    </tr>\n",
              "    <tr>\n",
              "      <th>983</th>\n",
              "      <td>perform state implied smoke leave smokeless it...</td>\n",
              "      <td>NaN</td>\n",
              "      <td>NaN</td>\n",
              "    </tr>\n",
              "    <tr>\n",
              "      <th>984</th>\n",
              "      <td>mango variety month ago friend turn bag marian...</td>\n",
              "      <td>NaN</td>\n",
              "      <td>NaN</td>\n",
              "    </tr>\n",
              "    <tr>\n",
              "      <th>985</th>\n",
              "      <td>awful blanch tasteless hard t believe actually...</td>\n",
              "      <td>NaN</td>\n",
              "      <td>NaN</td>\n",
              "    </tr>\n",
              "  </tbody>\n",
              "</table>\n",
              "<p>986 rows × 3 columns</p>\n",
              "</div>"
            ],
            "text/plain": [
              "                                               Review1  \\\n",
              "0    backup plan summer reading require reader find...   \n",
              "1    work verizon card try work verizon card succes...   \n",
              "2    profound journey lumari s book akashic record ...   \n",
              "3    relief product information say take day produc...   \n",
              "4    good fur bad kepe flea product pet fur soft fa...   \n",
              "..                                                 ...   \n",
              "981  fascinating recommend people enjoy atypical th...   \n",
              "982  great deal second projector viewsonic small co...   \n",
              "983  perform state implied smoke leave smokeless it...   \n",
              "984  mango variety month ago friend turn bag marian...   \n",
              "985  awful blanch tasteless hard t believe actually...   \n",
              "\n",
              "                                               Review2  \\\n",
              "0    go haywire regularly setup easy printer routin...   \n",
              "1    old fashioned sweet story challenge read enjoy...   \n",
              "2    stay away plain bad boring find bit entertain ...   \n",
              "3    bad break open red light camera steal film wat...   \n",
              "4    blu ray review terrible garbage totally suck h...   \n",
              "..                                                 ...   \n",
              "981                                                NaN   \n",
              "982                                                NaN   \n",
              "983                                                NaN   \n",
              "984                                                NaN   \n",
              "985                                                NaN   \n",
              "\n",
              "                                               Review3  \n",
              "0    miss page find entire n section good deal m se...  \n",
              "1    guide book comprehensive seldom try look pictu...  \n",
              "2    great collection johnson record star dub shell...  \n",
              "3    good album continue hit good album switchfoot ...  \n",
              "4    great gaming work accesorie new wrong movement...  \n",
              "..                                                 ...  \n",
              "981                                                NaN  \n",
              "982                                                NaN  \n",
              "983                                                NaN  \n",
              "984                                                NaN  \n",
              "985                                                NaN  \n",
              "\n",
              "[986 rows x 3 columns]"
            ]
          },
          "execution_count": 73,
          "metadata": {},
          "output_type": "execute_result"
        }
      ],
      "source": [
        "df"
      ]
    }
  ],
  "metadata": {
    "colab": {
      "provenance": []
    },
    "kernelspec": {
      "display_name": "Python 3",
      "language": "python",
      "name": "python3"
    },
    "language_info": {
      "codemirror_mode": {
        "name": "ipython",
        "version": 3
      },
      "file_extension": ".py",
      "mimetype": "text/x-python",
      "name": "python",
      "nbconvert_exporter": "python",
      "pygments_lexer": "ipython3",
      "version": "3.9.12"
    },
    "orig_nbformat": 4,
    "vscode": {
      "interpreter": {
        "hash": "40d3a090f54c6569ab1632332b64b2c03c39dcf918b08424e98f38b5ae0af88f"
      }
    }
  },
  "nbformat": 4,
  "nbformat_minor": 0
}
