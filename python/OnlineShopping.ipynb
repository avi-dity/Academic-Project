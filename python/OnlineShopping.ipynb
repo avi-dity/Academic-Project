{
 "cells": [
  {
   "cell_type": "markdown",
   "id": "ba8b7896",
   "metadata": {},
   "source": [
    "## Explained"
   ]
  },
  {
   "cell_type": "markdown",
   "id": "da721d39",
   "metadata": {},
   "source": [
    "### Dictionary of item record"
   ]
  },
  {
   "cell_type": "code",
   "execution_count": null,
   "id": "ce058756",
   "metadata": {},
   "outputs": [],
   "source": [
    "s_rec={1:['Biscuits',5,20.50],2:[\"Cereals\",10,90.00],3:[\"Chicken\",20,200.0],\n",
    "       4:[\"Oats\",20,39.99],5:[\"Rice\",30,79.99]}"
   ]
  },
  {
   "cell_type": "markdown",
   "id": "1beae9c1",
   "metadata": {},
   "source": [
    "### #Dictionary to Table"
   ]
  },
  {
   "cell_type": "code",
   "execution_count": null,
   "id": "97dfb45f",
   "metadata": {},
   "outputs": [],
   "source": [
    "def Items():\n",
    "    print(\"\\t\\tESSENTIAL ITEMS AVAILABLE\")\n",
    "    print(\"{:<15} {:<15} {:<15} {:<15}\".format(\"S.No\",\"Item\",\"Quantity\",\"Cost/Item\"))\n",
    "    for key, value in s_rec.items():\n",
    "        name, quant,cost = value\n",
    "        print(\"{:<15} {:<15} {:<15} {:<15}\".format(key,name,quant,cost))"
   ]
  },
  {
   "cell_type": "markdown",
   "id": "9d08bffb",
   "metadata": {},
   "source": [
    "### Customer Profile"
   ]
  },
  {
   "cell_type": "code",
   "execution_count": 9,
   "id": "90080f43",
   "metadata": {},
   "outputs": [
    {
     "name": "stdout",
     "output_type": "stream",
     "text": [
      "Enter your name a\n",
      "Enter your address a\n",
      "Distance from store 5/10/15 15\n",
      "Delivery Charge: 30 will be levied for 15 km of Distance\n",
      "Name:   a\n",
      "Address:  a\n",
      "invailed Input!\n",
      "Have a nice day!!\n"
     ]
    }
   ],
   "source": [
    "def customer():\n",
    "    global name,add,charge\n",
    "    name=input(\"Enter your name \")   #John Doe\n",
    "    add=input(\"Enter your address \") #2165 Brighton Henrietta Town Line Road Rochester,New York,14623\n",
    "    dis=int(input(\"Distance from store 5/10/15 \"))\n",
    "    charge=dis*2\n",
    "    print(\"Delivery Charge:\",charge,\"will be levied for\",dis,\"km of Distance\")\n",
    "    buyer(yes)\n",
    "def buyer(x):\n",
    "    def inner():\n",
    "        print(\"Name:  \",name)\n",
    "        print(\"Address: \",add)\n",
    "        x()\n",
    "    return inner()\n",
    "    \n",
    "def yes():\n",
    "    try:\n",
    "        ans=input(\"Do you want to continue shopping? y/n\")\n",
    "    except :\n",
    "        print(\"invailed Input!\")\n",
    "    finally:\n",
    "        print(\"Have a nice day!!\")\n",
    "def fun():\n",
    "    c=5+1\n",
    "    print(c)\n",
    "\n",
    "\n",
    "customer()"
   ]
  },
  {
   "cell_type": "code",
   "execution_count": 6,
   "id": "ebe4ec6b",
   "metadata": {},
   "outputs": [
    {
     "name": "stdout",
     "output_type": "stream",
     "text": [
      "8\n"
     ]
    }
   ],
   "source": []
  },
  {
   "cell_type": "markdown",
   "id": "7bb7dc49",
   "metadata": {},
   "source": [
    "### Taking input from user and creating another list for bill with updated quantity as per user and the cost"
   ]
  },
  {
   "cell_type": "code",
   "execution_count": null,
   "id": "3c1be88a",
   "metadata": {},
   "outputs": [],
   "source": [
    "def userinput():\n",
    "    z=0\n",
    "    a=int(input(\"How many biscuit packets are required? \"))\n",
    "    b=int(input(\"How many Cereals packets are required? \"))\n",
    "    c=int(input(\"How many Chicken packets are required? \"))  \n",
    "    d=int(input(\"How many Oats packets are required? \"))  \n",
    "    e=int(input(\"How many Rice packets are required? \"))\n",
    "    print(\"\\n\\n\")\n",
    "    print(\"Fill in your delivery details\")\n",
    "    global s_rec1\n",
    "    s_rec1=s_rec.copy()\n",
    "    em={}\n",
    "    for x,y in enumerate((z,a,b,c,d,e)):\n",
    "        em[x]=y\n",
    "        for key,value in s_rec.items():  \n",
    "        for i in em:\n",
    "            if key==i:\n",
    "                #print(i)\n",
    "#                 s_rec[key].pop(1)\n",
    "#                 s_rec[key].insert(1,em[i])\n",
    "                s_rec.update({key:[name,quant-em[i],cost]})\n",
    "    customer()"
   ]
  },
  {
   "cell_type": "markdown",
   "id": "0056f44d",
   "metadata": {},
   "source": [
    "### Creating the table of a bill and displaying the total item and total amount cost with customer details"
   ]
  },
  {
   "cell_type": "code",
   "execution_count": null,
   "id": "9d236764",
   "metadata": {},
   "outputs": [],
   "source": [
    "def bill():\n",
    "    print(\"\\t\\tBILL\")\n",
    "    print(\"{:<15} {:<15} {:<15} {:<15}\".format(\"S.No\",\"Item\",\"Quantity\",\"Cost/Item\"))\n",
    "    total=0\n",
    "    for key, value in s_rec1.items():\n",
    "        name, quant,cost = value\n",
    "        print(\"{:<15} {:<15} {:<15} {:<15}\".format(key,name,quant,cost))\n",
    "        price=quant*cost\n",
    "        total=total+price\n",
    "    print(\"\\n\")    \n",
    "    print(\"\\tTotal Item cost:  \",total)\n",
    "    print(\"\\tTotal Bill Amount:  total_item_cost + deliverycharge: \",total+charge)\n",
    "    print(\"\\n\") \n",
    "    buyer(yes)"
   ]
  },
  {
   "cell_type": "markdown",
   "id": "0e76ee60",
   "metadata": {},
   "source": [
    "## PROGRAM"
   ]
  },
  {
   "cell_type": "code",
   "execution_count": null,
   "id": "8d9edca1",
   "metadata": {},
   "outputs": [],
   "source": [
    "s_rec={1:['Biscuits',5,20.50],2:[\"Cereals\",10,90.00],3:[\"Chicken\",20,200.0],\n",
    "       4:[\"Oats\",20,39.99],5:[\"Rice\",30,79.99]}\n",
    "def Item():\n",
    "    print(\"\\t\\tESSENTIAL ITEMS AVAILABLE\")\n",
    "    print(\"{:<15} {:<15} {:<15} {:<15}\".format(\"S.No\",\"Item\",\"Quantity\",\"Cost/Item\"))\n",
    "    for key, value in s_rec.items():\n",
    "        name, quant,cost = value\n",
    "        print(\"{:<15} {:<15} {:<15} {:<15}\".format(key,name,quant,cost))\n",
    "\n",
    "def customer():\n",
    "    global name,add,charge\n",
    "    name=input(\"Enter your name \")   #John Doe\n",
    "    add=input(\"Enter your address \") #2165 Brighton Henrietta Town Line Road Rochester,New York,14623\n",
    "    dis=int(input(\"Distance from store 5/10/15 \"))\n",
    "    charge=dis*2\n",
    "    print(\"Delivery Charge:\",charge,\"will be levied for\",dis,\"km of Distance\")\n",
    "\n",
    "def buyer():\n",
    "        print(\"Name:  \",name)\n",
    "        print(\"Address: \",add)\n",
    "\n",
    "def yes():\n",
    "    try:\n",
    "        ans=input(\"Do you want to continue shopping? y/n\")\n",
    "        if ans==\"y\":\n",
    "            shopupdate()\n",
    "#             userinput()\n",
    "#             bill()\n",
    "        else:\n",
    "            pass\n",
    "    except :\n",
    "        print(\"invailed Input!\")\n",
    "    finally:\n",
    "        print(\"Have a nice day!!\")\n",
    "def userinput():\n",
    "    z=0\n",
    "    a=int(input(\"How many biscuit packets are required? \"))\n",
    "    if s_rec[1][1]<a:\n",
    "        print(\"Out of stock\")\n",
    "        a=5\n",
    "    b=int(input(\"How many Cereals packets are required? \"))\n",
    "    if s_rec[2][1]<b:\n",
    "        print(\"Out of stock\")\n",
    "        d=10\n",
    "    \n",
    "    c=int(input(\"How many Chicken packets are required? \"))\n",
    "    if s_rec[3][1]<c:\n",
    "        print(\"Out of stock\")\n",
    "        c=20\n",
    "    d=int(input(\"How many Oats packets are required? \"))  \n",
    "    if s_rec[4][1]<d:\n",
    "        print(\"Out of stock\")\n",
    "        d=20\n",
    "    e=int(input(\"How many Rice packets are required? \"))        \n",
    "    if s_rec[5][1]<e:\n",
    "        print(\"Out of stock\")\n",
    "        e=30\n",
    "    \n",
    "    print(\"\\n\\n\")\n",
    "    print(\"Fill in your delivery details\")\n",
    "    customer()\n",
    "    global s_rec1,em\n",
    "    s_rec1=s_rec.copy()\n",
    "    em={}\n",
    "    for x,y in enumerate((z,a,b,c,d,e)):\n",
    "        em[x]=y\n",
    "        \n",
    "    map(lambda name,quant,cost=value for key,value in s_rec1() s_rec1.update({key:[name,em[i],cost*em[i]]}) for i in em if key==i)\n",
    "    for key,value in s_rec1.items():  \n",
    "        name, quant,cost = value\n",
    "        for i in em:\n",
    "            if key==i:\n",
    "                s_rec1.update({key:[name,em[i],cost*em[i]]})                            \n",
    "    return\n",
    "    \n",
    "\n",
    "def bill():\n",
    "    print(\"\\n\")\n",
    "    print(\"\\tBILL\")\n",
    "    print(\"{:<15} {:<15} {:<15} {:<15}\".format(\"S.No\",\"Item\",\"Quantity\",\"Cost/Item\"))\n",
    "    total=0\n",
    "    for key, value in s_rec1.items():\n",
    "        name, quant,cost = value\n",
    "        print(\"{:<15} {:<15} {:<15} {:<15}\".format(key,name,quant,cost))\n",
    "        total=total+cost\n",
    "    print(\"\\n\")    \n",
    "    print(\" %20s  %1d \" %(\"Total Item cost:  \",total))\n",
    "    print(\"%57s  %1d\" %(\"Total Bill Amount:  total_item_cost + deliverycharge: \",total+charge))\n",
    "    print(\"\\n\") \n",
    "    return buyer()\n",
    "\n",
    "def shopupdate():\n",
    "    for key,value in s_rec.items():  \n",
    "            name, quant,cost = value\n",
    "            for i in em:\n",
    "                if key==i:\n",
    "                    s_rec.update({key:[name,quant-em[i],cost]})\n",
    "    print(\"\\t\\tESSENTIAL ITEMS AVAILABLE\")\n",
    "    print(\"{:<15} {:<15} {:<15} {:<15}\".format(\"S.No\",\"Item\",\"Quantity\",\"Cost/Item\"))\n",
    "    for key, value in s_rec.items():\n",
    "        name, quant,cost = value\n",
    "        print(\"{:<15} {:<15} {:<15} {:<15}\".format(key,name,quant,cost))\n",
    "\n",
    "Item()\n",
    "userinput()\n",
    "bill()\n",
    "yes()\n"
   ]
  },
  {
   "cell_type": "markdown",
   "id": "f542ba73",
   "metadata": {},
   "source": [
    "# Rough"
   ]
  },
  {
   "cell_type": "code",
   "execution_count": 2,
   "id": "0c04a0a3",
   "metadata": {
    "scrolled": false
   },
   "outputs": [
    {
     "name": "stdout",
     "output_type": "stream",
     "text": [
      "\t\tESSENTIAL ITEMS AVAILABLE\n",
      "S.No            Item            Quantity        Cost/Item      \n",
      "1               Biscuits        5               20.5           \n",
      "2               Cereals         10              90.0           \n",
      "3               Chicken         20              200.0          \n",
      "4               Oats            20              39.99          \n",
      "5               Rice            30              79.99          \n",
      "How many biscuit packets are required? 2\n",
      "How many Cereals packets are required? 5\n",
      "How many Chicken packets are required? 1\n",
      "How many Oats packets are required? 4\n",
      "How many Rice packets are required? 3\n",
      "\n",
      "\n",
      "\n",
      "Fill in your delivery details\n",
      "Enter your name a\n",
      "Enter your address a\n",
      "Distance from store 5/10/15 14\n",
      "Delivery Charge: 28 will be levied for 14 km of Distance\n",
      "\t\tBILL\n",
      "S.No            Item            Quantity        Cost           \n",
      "1               Biscuits        2               41.0           \n",
      "2               Cereals         5               450.0          \n",
      "3               Chicken         1               200.0          \n",
      "4               Oats            4               159.96         \n",
      "5               Rice            3               239.97         \n",
      "\n",
      "\n",
      "\tTotal Item cost:   1090.93\n",
      "\tTotal Bill Amount:  total_item_cost + deliverycharge:  1118.93\n",
      "\n",
      "\n",
      "Name:   a\n",
      "Address:  a\n",
      "Do you want to continue shopping? y/ny\n",
      "\t\tESSENTIAL ITEMS AVAILABLE\n",
      "S.No            Item            Quantity        Cost/Item      \n",
      "1               Biscuits        3               20.5           \n",
      "2               Cereals         5               90.0           \n",
      "3               Chicken         19              200.0          \n",
      "4               Oats            16              39.99          \n",
      "5               Rice            27              79.99          \n",
      "How many biscuit packets are required? 2\n",
      "How many Cereals packets are required? 5\n",
      "How many Chicken packets are required? 1\n",
      "How many Oats packets are required? 4\n",
      "How many Rice packets are required? 3\n",
      "\n",
      "\n",
      "\n",
      "Fill in your delivery details\n",
      "Enter your name a\n",
      "Enter your address a\n",
      "Distance from store 5/10/15 14\n",
      "Delivery Charge: 28 will be levied for 14 km of Distance\n",
      "\t\tBILL\n",
      "S.No            Item            Quantity        Cost           \n",
      "1               Biscuits        2               41.0           \n",
      "2               Cereals         5               450.0          \n",
      "3               Chicken         1               200.0          \n",
      "4               Oats            4               159.96         \n",
      "5               Rice            3               239.97         \n",
      "\n",
      "\n",
      "\tTotal Item cost:   1090.93\n",
      "\tTotal Bill Amount:  total_item_cost + deliverycharge:  1118.93\n",
      "\n",
      "\n",
      "Name:   a\n",
      "Address:  a\n",
      "Do you want to continue shopping? y/nn\n",
      "Have a nice day!!\n",
      "Have a nice day!!\n"
     ]
    }
   ],
   "source": [
    "s_rec={1:['Biscuits',5,20.50],2:[\"Cereals\",10,90.00],3:[\"Chicken\",20,200.0],\n",
    "       4:[\"Oats\",20,39.99],5:[\"Rice\",30,79.99]}\n",
    "total=0\n",
    "def Item():\n",
    "    print(\"\\t\\tESSENTIAL ITEMS AVAILABLE\")\n",
    "    print(\"{:<15} {:<15} {:<15} {:<15}\".format(\"S.No\",\"Item\",\"Quantity\",\"Cost/Item\"))\n",
    "    for key, value in s_rec.items():\n",
    "        name, quant,cost = value\n",
    "        print(\"{:<15} {:<15} {:<15} {:<15}\".format(key,name,quant,cost))\n",
    "\n",
    "def customer():\n",
    "    global name,add,charge\n",
    "    name=input(\"Enter your name \")   #John Doe\n",
    "    add=input(\"Enter your address \") #2165 Brighton Henrietta Town Line Road Rochester,New York,14623\n",
    "    dis=int(input(\"Distance from store 5/10/15 \"))\n",
    "    charge=dis*2\n",
    "    print(\"Delivery Charge:\",charge,\"will be levied for\",dis,\"km of Distance\")\n",
    "def buyer(f1):\n",
    "    def inner():\n",
    "        print(\"Name:  \",name)\n",
    "        print(\"Address: \",add)\n",
    "        f1()\n",
    "    return inner()\n",
    "\n",
    "def yes():\n",
    "    try:\n",
    "        ans=input(\"Do you want to continue shopping? y/n\")\n",
    "        if s_rec[1][1]==0 and s_rec[1][1]==0 and s_rec[2][1]==0 and s_rec[3][1]==0 and s_rec[4][1]==0 and s_rec[5][1]==0:\n",
    "            print ('\\33[31m'+\"Shop is Out of Stock\"+'\\33[m')\n",
    "        else:\n",
    "            if ans=='y':\n",
    "                Item()\n",
    "                userinput()\n",
    "                bill(total)\n",
    "    except :\n",
    "        print(\"invailed Input!\")\n",
    "    finally:\n",
    "        print(\"Have a nice day!!\")\n",
    "def userinput():\n",
    "    z=0\n",
    "    a=int(input(\"How many biscuit packets are required? \"))\n",
    "    if s_rec[1][1]<a:\n",
    "        a=s_rec[1][1]\n",
    "        if s_rec[1][1]==0:\n",
    "            print('\\033[31m'+\"Out of stock\",'\\33[m')\n",
    "        else:\n",
    "            print(\"Out of stock\")\n",
    "    b=int(input(\"How many Cereals packets are required? \"))\n",
    "    if s_rec[2][1]<b:\n",
    "        b=s_rec[2][1]\n",
    "        if s_rec[2][1]==0:\n",
    "            print('\\033[31m'+\"Out of stock\",'\\33[m')\n",
    "        else:\n",
    "            print(\"Out of stock\")\n",
    "    \n",
    "    c=int(input(\"How many Chicken packets are required? \"))\n",
    "    if s_rec[3][1]<c:\n",
    "        c=s_rec[3][1]\n",
    "        if s_rec[3][1]==0:\n",
    "            print('\\033[31m'+\"Out of stock\",'\\33[m')\n",
    "        else:\n",
    "            print(\"Out of stock\")\n",
    "    d=int(input(\"How many Oats packets are required? \"))  \n",
    "    if s_rec[4][1]<d:\n",
    "        d=s_rec[4][1]\n",
    "        if s_rec[4][1]==0:\n",
    "            print('\\033[31m'+\"Out of stock\",'\\33[m')\n",
    "        else:\n",
    "            print(\"Out of stock\")\n",
    "    e=int(input(\"How many Rice packets are required? \"))        \n",
    "    if s_rec[5][1]<e:\n",
    "        e=s_rec[5][1]\n",
    "        if s_rec[5][1]==0:\n",
    "            print('\\033[31m'+\"Out of stock\",'\\33[m')\n",
    "        else:\n",
    "            print(\"Out of stock\")\n",
    "    print(\"\\n\\n\")\n",
    "    print(\"Fill in your delivery details\")\n",
    "    global s_rec1\n",
    "    s_rec1=s_rec.copy()\n",
    "    em={}\n",
    "    for x,y in enumerate((z,a,b,c,d,e)):\n",
    "        em[x]=y\n",
    "    for key,value in s_rec1.items():  \n",
    "        name, quant,cost = value\n",
    "        for i in em:\n",
    "            if key==i:\n",
    "                s_rec1.update({key:[name,em[i],cost*em[i]]})\n",
    "    for key,value in s_rec.items():  \n",
    "        name, quant,cost = value\n",
    "        for i in em:\n",
    "            if key==i:\n",
    "                s_rec.update({key:[name,int((abs(quant-em[i])+(quant-em[i]))/2),cost]}) \n",
    "    \n",
    "    customer()\n",
    "\n",
    "def bill(total):\n",
    "    print(\"\\t\\tBILL\")\n",
    "    print(\"{:<15} {:<15} {:<15} {:<15}\".format(\"S.No\",\"Item\",\"Quantity\",\"Cost\"))\n",
    "    for key, value in s_rec1.items():\n",
    "        name, quant,cost = value\n",
    "        print(\"{:<15} {:<15} {:<15} {:<15}\".format(key,name,quant,round(cost,2)))\n",
    "        total=total+cost\n",
    "    print(\"\\n\")    \n",
    "    print(\"\\tTotal Item cost:  \",total)\n",
    "    print(\"\\tTotal Bill Amount:  total_item_cost + deliverycharge: \",total+charge)\n",
    "    print(\"\\n\") \n",
    "    buyer(yes)\n",
    "\n",
    "Item()\n",
    "\n",
    "\n",
    "\n",
    "\n",
    "userinput()\n",
    "bill(total)\n"
   ]
  },
  {
   "cell_type": "markdown",
   "id": "fb0087c8",
   "metadata": {},
   "source": [
    "## Trail-3"
   ]
  },
  {
   "cell_type": "code",
   "execution_count": null,
   "id": "7c66fb86",
   "metadata": {},
   "outputs": [],
   "source": [
    "s_rec={1:['Biscuits',5,20.50],2:[\"Cereals\",10,90.00],3:[\"Chicken\",20,200.0],\n",
    "       4:[\"Oats\",20,39.99],5:[\"Rice\",30,79.99]}\n",
    "def Item():\n",
    "    print(\"\\t\\tESSENTIAL ITEMS AVAILABLE\")\n",
    "    print(\"{:<15} {:<15} {:<15} {:<15}\".format(\"S.No\",\"Item\",\"Quantity\",\"Cost/Item\"))\n",
    "    for key, value in s_rec.items():\n",
    "        name, quant,cost = value\n",
    "        print(\"{:<15} {:<15} {:<15} {:<15}\".format(key,name,quant,cost))\n",
    "\n",
    "def customer():\n",
    "    global name,add,charge\n",
    "    name=input(\"Enter your name \")   #John Doe\n",
    "    add=input(\"Enter your address \") #2165 Brighton Henrietta Town Line Road Rochester,New York,14623\n",
    "    dis=int(input(\"Distance from store 5/10/15 \"))\n",
    "    charge=dis*2\n",
    "    print(\"Delivery Charge:\",charge,\"will be levied for\",dis,\"km of Distance\")\n",
    "def buyer(f1):\n",
    "    def inner():\n",
    "        print(\"Name:  \",name)\n",
    "        print(\"Address: \",add)\n",
    "        f1()\n",
    "    return inner()\n",
    "\n",
    "def yes():\n",
    "    try:\n",
    "        ans=input(\"Do you want to continue shopping? y/n\")\n",
    "        if s_rec[1][1]==0 and s_rec[1][1]==0 and s_rec[2][1]==0 and s_rec[3][1]==0 and s_rec[4][1]==0 and s_rec[5][1]==0:\n",
    "            print ('\\33[31m'+\"Shop is Out of Stock\"+'\\33[m')\n",
    "        else:\n",
    "            if ans=='y':\n",
    "                Item()\n",
    "                userinput()\n",
    "                bill()\n",
    "    except :\n",
    "        print(\"invailed Input!\")\n",
    "    finally:\n",
    "        print(\"Have a nice day!!\")\n",
    "def userinput():\n",
    "    z=0\n",
    "    a=int(input(\"How many biscuit packets are required? \"))\n",
    "    if s_rec[1][1]<a:\n",
    "        a=s_rec[1][1]\n",
    "        if s_rec[1][1]==0:\n",
    "            print('\\033[31m'+\"Out of stock\",'\\33[m')\n",
    "        else:\n",
    "            print(\"Out of stock\")\n",
    "    b=int(input(\"How many Cereals packets are required? \"))\n",
    "    if s_rec[2][1]<b:\n",
    "        b=s_rec[2][1]\n",
    "        if s_rec[2][1]==0:\n",
    "            print('\\033[31m'+\"Out of stock\",'\\33[m')\n",
    "        else:\n",
    "            print(\"Out of stock\")\n",
    "    \n",
    "    c=int(input(\"How many Chicken packets are required? \"))\n",
    "    if s_rec[3][1]<c:\n",
    "        c=s_rec[3][1]\n",
    "        if s_rec[3][1]==0:\n",
    "            print('\\033[31m'+\"Out of stock\",'\\33[m')\n",
    "        else:\n",
    "            print(\"Out of stock\")\n",
    "    d=int(input(\"How many Oats packets are required? \"))  \n",
    "    if s_rec[4][1]<d:\n",
    "        d=s_rec[4][1]\n",
    "        if s_rec[4][1]==0:\n",
    "            print('\\033[31m'+\"Out of stock\",'\\33[m')\n",
    "        else:\n",
    "            print(\"Out of stock\")\n",
    "    e=int(input(\"How many Rice packets are required? \"))        \n",
    "    if s_rec[5][1]<e:\n",
    "        e=s_rec[5][1]\n",
    "        if s_rec[5][1]==0:\n",
    "            print('\\033[31m'+\"Out of stock\",'\\33[m')\n",
    "        else:\n",
    "            print(\"Out of stock\")\n",
    "            \n",
    "    print(\"\\n\\n\")\n",
    "    print(\"Fill in your delivery details\")\n",
    "    global s_rec1\n",
    "    s_rec1=s_rec.copy()\n",
    "    em={}\n",
    "    for x,y in enumerate((z,a,b,c,d,e)):\n",
    "        em[x]=y\n",
    "    for key,value in s_rec1.items():  \n",
    "        name, quant,cost = value\n",
    "        for i in em:\n",
    "            if key==i:\n",
    "                s_rec1.update({key:[name,em[i],cost*em[i]]})\n",
    "    for key,value in s_rec.items():  \n",
    "        name, quant,cost = value\n",
    "        for i in em:\n",
    "            if key==i:\n",
    "                s_rec.update({key:[name,int((abs(quant-em[i])+(quant-em[i]))/2),cost]}) \n",
    "    \n",
    "    customer()\n",
    "\n",
    "def bill():\n",
    "    print(\"\\t\\tBILL\")\n",
    "    print(\"{:<15} {:<15} {:<15} {:<15}\".format(\"S.No\",\"Item\",\"Quantity\",\"Cost\"))\n",
    "    total=0\n",
    "    for key, value in s_rec1.items():\n",
    "        name, quant,cost = value\n",
    "        print(\"{:<15} {:<15} {:<15} {:<15}\".format(key,name,quant,round(cost,2)))\n",
    "        total=total+cost\n",
    "    print(\"\\n\")    \n",
    "    print(\"\\tTotal Item cost:  \",total)\n",
    "    print(\"\\tTotal Bill Amount:  total_item_cost + deliverycharge: \",total+charge)\n",
    "    print(\"\\n\") \n",
    "    buyer(yes)\n",
    "\n",
    "Item()\n",
    "\n",
    "\n",
    "\n",
    "userinput()\n",
    "bill()\n"
   ]
  },
  {
   "cell_type": "code",
   "execution_count": null,
   "id": "528b6222",
   "metadata": {},
   "outputs": [],
   "source": [
    "\n",
    "def dill():\n",
    "    print(\"dill\")\n",
    "    x=0\n",
    "    gill(x)\n",
    "    \n",
    "    \n",
    "def gill(i):\n",
    "    total=1+i\n",
    "    print(\"gill\")\n",
    "    print(total)\n",
    "dill()"
   ]
  },
  {
   "cell_type": "code",
   "execution_count": null,
   "id": "be3828d0",
   "metadata": {},
   "outputs": [],
   "source": []
  },
  {
   "cell_type": "code",
   "execution_count": null,
   "id": "d0aa0ab3",
   "metadata": {},
   "outputs": [],
   "source": []
  },
  {
   "cell_type": "code",
   "execution_count": null,
   "id": "a637b9c5",
   "metadata": {},
   "outputs": [],
   "source": []
  },
  {
   "cell_type": "code",
   "execution_count": null,
   "id": "d690f72c",
   "metadata": {},
   "outputs": [],
   "source": []
  },
  {
   "cell_type": "code",
   "execution_count": null,
   "id": "3d6c82e0",
   "metadata": {},
   "outputs": [],
   "source": []
  },
  {
   "cell_type": "code",
   "execution_count": null,
   "id": "4f91f6ab",
   "metadata": {},
   "outputs": [],
   "source": []
  },
  {
   "cell_type": "code",
   "execution_count": null,
   "id": "034e7366",
   "metadata": {},
   "outputs": [],
   "source": []
  },
  {
   "cell_type": "code",
   "execution_count": null,
   "id": "cee9ae4a",
   "metadata": {},
   "outputs": [],
   "source": []
  },
  {
   "cell_type": "code",
   "execution_count": null,
   "id": "7766f098",
   "metadata": {},
   "outputs": [],
   "source": []
  },
  {
   "cell_type": "code",
   "execution_count": null,
   "id": "915f4bda",
   "metadata": {},
   "outputs": [],
   "source": []
  },
  {
   "cell_type": "code",
   "execution_count": null,
   "id": "924061cc",
   "metadata": {},
   "outputs": [],
   "source": [
    "TGREEN =  '\\033[32m' # Green Text\n",
    "print (TGREEN + \"This is some green text!\")\n"
   ]
  },
  {
   "cell_type": "code",
   "execution_count": null,
   "id": "9f605861",
   "metadata": {},
   "outputs": [],
   "source": [
    "TWHITE = '\\033[37m'\n",
    "\n",
    "print ('\\33[31m'+ \"It doens't reset!\" ,'\\33[m')\n",
    "print(\"hello\")"
   ]
  },
  {
   "cell_type": "code",
   "execution_count": null,
   "id": "4e864e4d",
   "metadata": {},
   "outputs": [],
   "source": [
    "ENDC = '\\033[m' # reset to the defaults\n",
    "\n",
    "print (TGREEN + \"Das ist es!\" , ENDC)"
   ]
  },
  {
   "cell_type": "code",
   "execution_count": null,
   "id": "851e8141",
   "metadata": {},
   "outputs": [],
   "source": [
    "print('\\033[31m'+\"Shop is Out of Stock\")\n",
    "print('sdjfldsf')"
   ]
  },
  {
   "cell_type": "code",
   "execution_count": null,
   "id": "29df66ac",
   "metadata": {},
   "outputs": [],
   "source": [
    "print(\"hello \\x1B[1mworld\\x1B[0m!\") "
   ]
  },
  {
   "cell_type": "code",
   "execution_count": 1,
   "id": "9d89c6e9",
   "metadata": {
    "scrolled": true
   },
   "outputs": [
    {
     "name": "stdout",
     "output_type": "stream",
     "text": [
      "\u001b[38;5;0mX\u001b[38;5;1mX\u001b[38;5;2mX\u001b[38;5;3mX\u001b[38;5;4mX\u001b[38;5;5mX\u001b[38;5;6mX\u001b[38;5;7mX\u001b[38;5;8mX\u001b[38;5;9mX\u001b[38;5;10mX\u001b[38;5;11mX\u001b[38;5;12mX\u001b[38;5;13mX\u001b[38;5;14mX\u001b[38;5;15mX\u001b[38;5;16mX\u001b[38;5;17mX\u001b[38;5;18mX\u001b[38;5;19mX\u001b[38;5;20mX\u001b[38;5;21mX\u001b[38;5;22mX\u001b[38;5;23mX\u001b[38;5;24mX\u001b[38;5;25mX\u001b[38;5;26mX\u001b[38;5;27mX\u001b[38;5;28mX\u001b[38;5;29mX\u001b[38;5;30mX\u001b[38;5;31mX\u001b[38;5;32mX\u001b[38;5;33mX\u001b[38;5;34mX\u001b[38;5;35mX\u001b[38;5;36mX\u001b[38;5;37mX\u001b[38;5;38mX\u001b[38;5;39mX\u001b[38;5;40mX\u001b[38;5;41mX\u001b[38;5;42mX\u001b[38;5;43mX\u001b[38;5;44mX\u001b[38;5;45mX\u001b[38;5;46mX\u001b[38;5;47mX\u001b[38;5;48mX\u001b[38;5;49mX\u001b[38;5;50mX\u001b[38;5;51mX\u001b[38;5;52mX\u001b[38;5;53mX\u001b[38;5;54mX\u001b[38;5;55mX\u001b[38;5;56mX\u001b[38;5;57mX\u001b[38;5;58mX\u001b[38;5;59mX\u001b[38;5;60mX\u001b[38;5;61mX\u001b[38;5;62mX\u001b[38;5;63mX\u001b[38;5;64mX\u001b[38;5;65mX\u001b[38;5;66mX\u001b[38;5;67mX\u001b[38;5;68mX\u001b[38;5;69mX\u001b[38;5;70mX\u001b[38;5;71mX\u001b[38;5;72mX\u001b[38;5;73mX\u001b[38;5;74mX\u001b[38;5;75mX\u001b[38;5;76mX\u001b[38;5;77mX\u001b[38;5;78mX\u001b[38;5;79mX\u001b[38;5;80mX\u001b[38;5;81mX\u001b[38;5;82mX\u001b[38;5;83mX\u001b[38;5;84mX\u001b[38;5;85mX\u001b[38;5;86mX\u001b[38;5;87mX\u001b[38;5;88mX\u001b[38;5;89mX\u001b[38;5;90mX\u001b[38;5;91mX\u001b[38;5;92mX\u001b[38;5;93mX\u001b[38;5;94mX\u001b[38;5;95mX\u001b[38;5;96mX\u001b[38;5;97mX\u001b[38;5;98mX\u001b[38;5;99mX\u001b[38;5;100mX\u001b[38;5;101mX\u001b[38;5;102mX\u001b[38;5;103mX\u001b[38;5;104mX\u001b[38;5;105mX\u001b[38;5;106mX\u001b[38;5;107mX\u001b[38;5;108mX\u001b[38;5;109mX\u001b[38;5;110mX\u001b[38;5;111mX\u001b[38;5;112mX\u001b[38;5;113mX\u001b[38;5;114mX\u001b[38;5;115mX\u001b[38;5;116mX\u001b[38;5;117mX\u001b[38;5;118mX\u001b[38;5;119mX\u001b[38;5;120mX\u001b[38;5;121mX\u001b[38;5;122mX\u001b[38;5;123mX\u001b[38;5;124mX\u001b[38;5;125mX\u001b[38;5;126mX\u001b[38;5;127mX\u001b[38;5;128mX\u001b[38;5;129mX\u001b[38;5;130mX\u001b[38;5;131mX\u001b[38;5;132mX\u001b[38;5;133mX\u001b[38;5;134mX\u001b[38;5;135mX\u001b[38;5;136mX\u001b[38;5;137mX\u001b[38;5;138mX\u001b[38;5;139mX\u001b[38;5;140mX\u001b[38;5;141mX\u001b[38;5;142mX\u001b[38;5;143mX\u001b[38;5;144mX\u001b[38;5;145mX\u001b[38;5;146mX\u001b[38;5;147mX\u001b[38;5;148mX\u001b[38;5;149mX\u001b[38;5;150mX\u001b[38;5;151mX\u001b[38;5;152mX\u001b[38;5;153mX\u001b[38;5;154mX\u001b[38;5;155mX\u001b[38;5;156mX\u001b[38;5;157mX\u001b[38;5;158mX\u001b[38;5;159mX\u001b[38;5;160mX\u001b[38;5;161mX\u001b[38;5;162mX\u001b[38;5;163mX\u001b[38;5;164mX\u001b[38;5;165mX\u001b[38;5;166mX\u001b[38;5;167mX\u001b[38;5;168mX\u001b[38;5;169mX\u001b[38;5;170mX\u001b[38;5;171mX\u001b[38;5;172mX\u001b[38;5;173mX\u001b[38;5;174mX\u001b[38;5;175mX\u001b[38;5;176mX\u001b[38;5;177mX\u001b[38;5;178mX\u001b[38;5;179mX\u001b[38;5;180mX\u001b[38;5;181mX\u001b[38;5;182mX\u001b[38;5;183mX\u001b[38;5;184mX\u001b[38;5;185mX\u001b[38;5;186mX\u001b[38;5;187mX\u001b[38;5;188mX\u001b[38;5;189mX\u001b[38;5;190mX\u001b[38;5;191mX\u001b[38;5;192mX\u001b[38;5;193mX\u001b[38;5;194mX\u001b[38;5;195mX\u001b[38;5;196mX\u001b[38;5;197mX\u001b[38;5;198mX\u001b[38;5;199mX\u001b[38;5;200mX\u001b[38;5;201mX\u001b[38;5;202mX\u001b[38;5;203mX\u001b[38;5;204mX\u001b[38;5;205mX\u001b[38;5;206mX\u001b[38;5;207mX\u001b[38;5;208mX\u001b[38;5;209mX\u001b[38;5;210mX\u001b[38;5;211mX\u001b[38;5;212mX\u001b[38;5;213mX\u001b[38;5;214mX\u001b[38;5;215mX\u001b[38;5;216mX\u001b[38;5;217mX\u001b[38;5;218mX\u001b[38;5;219mX\u001b[38;5;220mX\u001b[38;5;221mX\u001b[38;5;222mX\u001b[38;5;223mX\u001b[38;5;224mX\u001b[38;5;225mX\u001b[38;5;226mX\u001b[38;5;227mX\u001b[38;5;228mX\u001b[38;5;229mX\u001b[38;5;230mX\u001b[38;5;231mX\u001b[38;5;232mX\u001b[38;5;233mX\u001b[38;5;234mX\u001b[38;5;235mX\u001b[38;5;236mX\u001b[38;5;237mX\u001b[38;5;238mX\u001b[38;5;239mX\u001b[38;5;240mX\u001b[38;5;241mX\u001b[38;5;242mX\u001b[38;5;243mX\u001b[38;5;244mX\u001b[38;5;245mX\u001b[38;5;246mX\u001b[38;5;247mX\u001b[38;5;248mX\u001b[38;5;249mX\u001b[38;5;250mX\u001b[38;5;251mX\u001b[38;5;252mX\u001b[38;5;253mX\u001b[38;5;254mX\u001b[38;5;255mX"
     ]
    }
   ],
   "source": [
    "for c in range(256) :\n",
    "    print(\"\\x1B[38;5;\"+str(c)+\"mX\",end=\"\") "
   ]
  },
  {
   "cell_type": "code",
   "execution_count": null,
   "id": "0839c94b",
   "metadata": {},
   "outputs": [],
   "source": [
    "print(\"\\33[31m\".format(code=\"hello\"))\n",
    "print(\"hello\")\n",
    "print(\"cat\")"
   ]
  },
  {
   "cell_type": "code",
   "execution_count": 13,
   "id": "957f53b2",
   "metadata": {},
   "outputs": [
    {
     "data": {
      "text/plain": [
       "{0: 0, 1: 2, 2: 5, 3: 1, 4: 4, 5: 3}"
      ]
     },
     "execution_count": 13,
     "metadata": {},
     "output_type": "execute_result"
    }
   ],
   "source": [
    "s_rec={1:['Biscuits',5,20.50],2:[\"Cereals\",10,90.00],3:[\"Chicken\",20,200.0],\n",
    "       4:[\"Oats\",20,39.99],5:[\"Rice\",30,79.99]}\n",
    "z,a,b,c,d,e=0,2,5,1,4,3\n",
    "em={x:y for x,y in enumerate((z,a,b,c,d,e))}\n",
    "s_rec1=s_rec.copy()\n",
    "em"
   ]
  },
  {
   "cell_type": "code",
   "execution_count": null,
   "id": "5a815d0d",
   "metadata": {},
   "outputs": [],
   "source": [
    "s_rec"
   ]
  },
  {
   "cell_type": "code",
   "execution_count": 10,
   "id": "3fd7a0d8",
   "metadata": {},
   "outputs": [
    {
     "name": "stdout",
     "output_type": "stream",
     "text": [
      "r,g,b: 0 84 170  gives r,g,b: 32 116 138  gives r,g,b: 64 148 106  gives r,g,b: 96 180 74  gives r,g,b: 128 212 42  gives r,g,b: 160 244 10  gives r,g,b: 192 20 234  gives r,g,b: 224 52 202  gives "
     ]
    }
   ],
   "source": [
    "for i in range(0,256,32): \n",
    "\tr = i % 256 \n",
    "\tg = (i + 84) % 256 \n",
    "\tb = (170-i)%256 \n",
    "\tprint(\"r,g,b:\",r,g,b,\" gives \",end=\"\") \n"
   ]
  }
 ],
 "metadata": {
  "kernelspec": {
   "display_name": "Python 3 (ipykernel)",
   "language": "python",
   "name": "python3"
  },
  "language_info": {
   "codemirror_mode": {
    "name": "ipython",
    "version": 3
   },
   "file_extension": ".py",
   "mimetype": "text/x-python",
   "name": "python",
   "nbconvert_exporter": "python",
   "pygments_lexer": "ipython3",
   "version": "3.9.12"
  }
 },
 "nbformat": 4,
 "nbformat_minor": 5
}
